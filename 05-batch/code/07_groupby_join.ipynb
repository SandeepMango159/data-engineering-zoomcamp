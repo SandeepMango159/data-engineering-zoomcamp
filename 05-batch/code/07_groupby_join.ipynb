{
 "cells": [
  {
   "cell_type": "markdown",
   "id": "f5fd88d7",
   "metadata": {},
   "source": [
    "# This notebook is for executing an SQL query from week 4, but using spark, and explaining groupby and join mechanisms in spark, and internal cluster, shuffle, broadcast mechanisms"
   ]
  },
  {
   "cell_type": "markdown",
   "id": "71170c36",
   "metadata": {},
   "source": [
    "## Setup spark"
   ]
  },
  {
   "cell_type": "markdown",
   "metadata": {},
   "source": [
    "### Setup python environments"
   ]
  },
  {
   "cell_type": "code",
   "execution_count": 2,
   "metadata": {},
   "outputs": [
    {
     "name": "stdout",
     "output_type": "stream",
     "text": [
      "c:\\Sandeep SSD\\Programming SSD\\Data Engineering Zoomcamp\\data-engineering-zoomcamp\\dataenginzoomvenv\\Scripts\\python.exe\n",
      "c:\\Sandeep SSD\\Programming SSD\\Data Engineering Zoomcamp\\data-engineering-zoomcamp\\dataenginzoomvenv\\Scripts\\python.exe\n",
      "c:\\Sandeep SSD\\Programming SSD\\Data Engineering Zoomcamp\\data-engineering-zoomcamp\\dataenginzoomvenv\\Scripts\\python.exe\n"
     ]
    }
   ],
   "source": [
    "# Add the vevn to spark's settings, so inject the venv’s Python into both driver & worker configs before recreating the session, to find the right python interpreter, since the notebook us running within the venv kernel, we can just use sys.executable\n",
    "import os, sys\n",
    "\n",
    "print(sys.executable)\n",
    "venv_python = sys.executable\n",
    "\n",
    "# 1) Ensure the worker uses exactly this Python executable:\n",
    "os.environ['PYSPARK_PYTHON'] = venv_python\n",
    "os.environ['PYSPARK_DRIVER_PYTHON'] = venv_python\n",
    "\n",
    "print(os.environ['PYSPARK_PYTHON'])\n",
    "print(os.environ['PYSPARK_DRIVER_PYTHON'])\n"
   ]
  },
  {
   "cell_type": "markdown",
   "metadata": {},
   "source": [
    "### Launch spark with those python variables"
   ]
  },
  {
   "cell_type": "code",
   "execution_count": 3,
   "metadata": {},
   "outputs": [],
   "source": [
    "import pyspark\n",
    "from pyspark.sql import SparkSession\n",
    "\n",
    "spark = SparkSession.builder \\\n",
    "    .master(\"local[*]\") \\\n",
    "    .appName('test') \\\n",
    "    .config(\"spark.pyspark.python\", venv_python) \\\n",
    "    .config(\"spark.pyspark.driver.python\", venv_python) \\\n",
    "    .getOrCreate()"
   ]
  },
  {
   "cell_type": "code",
   "execution_count": 4,
   "id": "72f2e38c",
   "metadata": {},
   "outputs": [
    {
     "name": "stdout",
     "output_type": "stream",
     "text": [
      "http://192.168.0.181:4040\n"
     ]
    }
   ],
   "source": [
    "# Check which port the Spark UI is running on\n",
    "print(spark.sparkContext.uiWebUrl)"
   ]
  },
  {
   "cell_type": "markdown",
   "id": "2c606e7e",
   "metadata": {},
   "source": [
    "## Read the files"
   ]
  },
  {
   "cell_type": "markdown",
   "metadata": {},
   "source": [
    "### Read green files"
   ]
  },
  {
   "cell_type": "code",
   "execution_count": 6,
   "metadata": {},
   "outputs": [],
   "source": [
    "# Use 2 * since we have year subfolders, and month subfolders, okay...\n",
    "df_green = spark.read.parquet('../../Data/data/csv/green/spark_parquet/*/*')"
   ]
  },
  {
   "cell_type": "code",
   "execution_count": 9,
   "id": "243991f3",
   "metadata": {},
   "outputs": [],
   "source": [
    "# registertemptable is deprecated \n",
    "# df_green.registerTempTable('green')\n",
    "df_green.createOrReplaceTempView('green')"
   ]
  },
  {
   "cell_type": "code",
   "execution_count": 12,
   "id": "e43764a7",
   "metadata": {},
   "outputs": [],
   "source": [
    "# Same query in notebook 6 but smaller\n",
    "# Looks at total amount and sees how many records are there per zone (location id) per hour\n",
    "# Checks only trips from after 2020\n",
    "# count(1) same as count(*), just however you prefer to write it, count(*/1) will count the number of records for the group of (1, 2)\n",
    "df_green_revenue = spark.sql(\"\"\"\n",
    "SELECT \n",
    "    date_trunc('hour', lpep_pickup_datetime) AS hour, \n",
    "    PULocationID AS zone,\n",
    "\n",
    "    SUM(total_amount) AS amount,\n",
    "    COUNT(1) AS number_records\n",
    "FROM\n",
    "    green\n",
    "WHERE\n",
    "    lpep_pickup_datetime >= '2020-01-01 00:00:00'\n",
    "GROUP BY\n",
    "    1, 2\n",
    "order by \n",
    "    1, 2\n",
    "\"\"\")"
   ]
  },
  {
   "cell_type": "code",
   "execution_count": 13,
   "metadata": {},
   "outputs": [
    {
     "name": "stdout",
     "output_type": "stream",
     "text": [
      "+-------------------+----+------------------+--------------+\n",
      "|               hour|zone|            amount|number_records|\n",
      "+-------------------+----+------------------+--------------+\n",
      "|2020-01-01 00:00:00|   7|            769.73|            45|\n",
      "|2020-01-01 00:00:00|  17|195.02999999999997|             9|\n",
      "|2020-01-01 00:00:00|  18|               7.8|             1|\n",
      "|2020-01-01 00:00:00|  22|              15.8|             1|\n",
      "|2020-01-01 00:00:00|  24|              87.6|             3|\n",
      "|2020-01-01 00:00:00|  25|             531.0|            26|\n",
      "|2020-01-01 00:00:00|  29|              61.3|             1|\n",
      "|2020-01-01 00:00:00|  32| 68.94999999999999|             2|\n",
      "|2020-01-01 00:00:00|  33|317.27000000000004|            11|\n",
      "|2020-01-01 00:00:00|  35|129.95999999999998|             5|\n",
      "|2020-01-01 00:00:00|  36|295.34000000000003|            11|\n",
      "|2020-01-01 00:00:00|  37|175.67000000000002|             6|\n",
      "|2020-01-01 00:00:00|  38| 98.78999999999999|             2|\n",
      "|2020-01-01 00:00:00|  40|            168.98|             8|\n",
      "|2020-01-01 00:00:00|  41|1363.9599999999991|            84|\n",
      "|2020-01-01 00:00:00|  42| 799.7599999999998|            52|\n",
      "|2020-01-01 00:00:00|  43|            107.52|             6|\n",
      "|2020-01-01 00:00:00|  47|              13.3|             1|\n",
      "|2020-01-01 00:00:00|  49|            266.76|            14|\n",
      "|2020-01-01 00:00:00|  51|              17.8|             2|\n",
      "+-------------------+----+------------------+--------------+\n",
      "only showing top 20 rows\n",
      "\n"
     ]
    }
   ],
   "source": [
    "df_green_revenue.show()"
   ]
  },
  {
   "cell_type": "code",
   "execution_count": 15,
   "id": "3e00310e",
   "metadata": {},
   "outputs": [],
   "source": [
    "df_green_revenue \\\n",
    "    .repartition(20) \\\n",
    "    .write.parquet('../../Data/data/module-05-batch/07-groupby-join/report/revenue/green', mode='overwrite')"
   ]
  },
  {
   "cell_type": "markdown",
   "metadata": {},
   "source": [
    "### Read yellow files"
   ]
  },
  {
   "cell_type": "code",
   "execution_count": 18,
   "id": "07ebb68c",
   "metadata": {},
   "outputs": [],
   "source": [
    "df_yellow = spark.read.parquet('../../Data/data/csv/yellow/spark_parquet/*/*')\n",
    "df_yellow.createOrReplaceTempView('yellow')"
   ]
  },
  {
   "cell_type": "code",
   "execution_count": 19,
   "id": "9d5be29d",
   "metadata": {},
   "outputs": [],
   "source": [
    "df_yellow_revenue = spark.sql(\"\"\"\n",
    "SELECT \n",
    "    date_trunc('hour', tpep_pickup_datetime) AS hour, \n",
    "    PULocationID AS zone,\n",
    "\n",
    "    SUM(total_amount) AS amount,\n",
    "    COUNT(1) AS number_records\n",
    "FROM\n",
    "    yellow\n",
    "WHERE\n",
    "    tpep_pickup_datetime >= '2020-01-01 00:00:00'\n",
    "GROUP BY\n",
    "    1, 2\n",
    "\"\"\")"
   ]
  },
  {
   "cell_type": "code",
   "execution_count": 21,
   "id": "8bd9264e",
   "metadata": {},
   "outputs": [],
   "source": [
    "# And write out the revenue to a file too\n",
    "df_yellow_revenue \\\n",
    "    .repartition(20) \\\n",
    "    .write.parquet('../../Data/data/module-05-batch/07-groupby-join/report/revenue/yellow', mode='overwrite')"
   ]
  },
  {
   "cell_type": "markdown",
   "id": "03a061a6",
   "metadata": {},
   "source": [
    "## Joins explanation"
   ]
  },
  {
   "cell_type": "code",
   "execution_count": 22,
   "id": "fd5d74d7",
   "metadata": {},
   "outputs": [],
   "source": [
    "# Read the files back in\n",
    "df_green_revenue = spark.read.parquet('../../Data/data/module-05-batch/07-groupby-join/report/revenue/green')\n",
    "df_yellow_revenue = spark.read.parquet('../../Data/data/module-05-batch/07-groupby-join/report/revenue/yellow')"
   ]
  },
  {
   "cell_type": "code",
   "execution_count": 23,
   "id": "35015ee6",
   "metadata": {},
   "outputs": [],
   "source": [
    "# Rename some columns to make it easier to distinguish\n",
    "df_green_revenue_tmp = df_green_revenue \\\n",
    "    .withColumnRenamed('amount', 'green_amount') \\\n",
    "    .withColumnRenamed('number_records', 'green_number_records')\n",
    "\n",
    "df_yellow_revenue_tmp = df_yellow_revenue \\\n",
    "    .withColumnRenamed('amount', 'yellow_amount') \\\n",
    "    .withColumnRenamed('number_records', 'yellow_number_records')"
   ]
  },
  {
   "cell_type": "code",
   "execution_count": 24,
   "id": "ec9f34ea",
   "metadata": {},
   "outputs": [],
   "source": [
    "df_join = df_green_revenue_tmp.join(df_yellow_revenue_tmp, on=['hour', 'zone'], how='outer')"
   ]
  },
  {
   "cell_type": "code",
   "execution_count": 25,
   "metadata": {},
   "outputs": [
    {
     "data": {
      "text/plain": [
       "DataFrame[hour: timestamp, zone: int, green_amount: double, green_number_records: bigint, yellow_amount: double, yellow_number_records: bigint]"
      ]
     },
     "execution_count": 25,
     "metadata": {},
     "output_type": "execute_result"
    }
   ],
   "source": [
    "# Show the dataframe with the columns\n",
    "df_join"
   ]
  },
  {
   "cell_type": "code",
   "execution_count": 26,
   "metadata": {},
   "outputs": [
    {
     "name": "stdout",
     "output_type": "stream",
     "text": [
      "+-------------------+----+------------------+--------------------+------------------+---------------------+\n",
      "|               hour|zone|      green_amount|green_number_records|     yellow_amount|yellow_number_records|\n",
      "+-------------------+----+------------------+--------------------+------------------+---------------------+\n",
      "|2020-01-01 00:00:00|  55|129.29000000000002|                   4|              null|                 null|\n",
      "|2020-01-01 00:00:00|  60|            160.04|                   6|57.620000000000005|                    2|\n",
      "|2020-01-01 00:00:00|  61|            526.71|                  17|            146.64|                    3|\n",
      "|2020-01-01 00:00:00|  65|            199.49|                  10|            409.35|                   19|\n",
      "|2020-01-01 00:00:00|  71|              23.8|                   1|              null|                 null|\n",
      "|2020-01-01 00:00:00|  78|             34.46|                   2|              null|                 null|\n",
      "|2020-01-01 00:00:00|  88|              null|                null| 823.8000000000001|                   36|\n",
      "|2020-01-01 00:00:00| 106|             10.56|                   1|              null|                 null|\n",
      "|2020-01-01 00:00:00| 112|            312.26|                  18|119.47999999999999|                    8|\n",
      "|2020-01-01 00:00:00| 161|              null|                null| 9410.210000000001|                  488|\n",
      "|2020-01-01 00:00:00| 162|              null|                null| 4622.289999999997|                  268|\n",
      "|2020-01-01 00:00:00| 190|             61.97|                   4|              54.1|                    3|\n",
      "|2020-01-01 00:00:00| 255|            666.34|                  28|            537.66|                   27|\n",
      "|2020-01-01 01:00:00|   3|46.230000000000004|                   2|              null|                 null|\n",
      "|2020-01-01 01:00:00|  40|177.16000000000003|                   6|            313.54|                   15|\n",
      "|2020-01-01 01:00:00|  45|              null|                null|            898.44|                   49|\n",
      "|2020-01-01 01:00:00|  47|130.45999999999998|                   3|47.400000000000006|                    3|\n",
      "|2020-01-01 01:00:00|  77|             64.66|                   2|              null|                 null|\n",
      "|2020-01-01 01:00:00|  95|239.52000000000004|                  17|              94.0|                    6|\n",
      "|2020-01-01 01:00:00| 164|              null|                null| 9384.079999999998|                  488|\n",
      "+-------------------+----+------------------+--------------------+------------------+---------------------+\n",
      "only showing top 20 rows\n",
      "\n"
     ]
    }
   ],
   "source": [
    "# Show the data on the dataframe\n",
    "df_join.show()"
   ]
  },
  {
   "cell_type": "code",
   "execution_count": 27,
   "id": "10238be7",
   "metadata": {},
   "outputs": [],
   "source": [
    "# Write it back out \n",
    "df_join.write.parquet('../../Data/data/module-05-batch/07-groupby-join/report/revenue/total', mode='overwrite')"
   ]
  },
  {
   "cell_type": "code",
   "execution_count": null,
   "id": "c3af7169",
   "metadata": {},
   "outputs": [],
   "source": [
    "# Read it back in instead so no recompute needed\n",
    "df_join = spark.read.parquet('../../Data/data/module-05-batch/07-groupby-join/report/revenue/total')"
   ]
  },
  {
   "cell_type": "code",
   "execution_count": 29,
   "id": "bc2a6680",
   "metadata": {},
   "outputs": [
    {
     "data": {
      "text/plain": [
       "DataFrame[hour: timestamp, zone: int, green_amount: double, green_number_records: bigint, yellow_amount: double, yellow_number_records: bigint]"
      ]
     },
     "execution_count": 29,
     "metadata": {},
     "output_type": "execute_result"
    }
   ],
   "source": [
    "df_join"
   ]
  },
  {
   "cell_type": "code",
   "execution_count": 30,
   "metadata": {},
   "outputs": [
    {
     "name": "stdout",
     "output_type": "stream",
     "text": [
      "+-------------------+----+------------------+--------------------+------------------+---------------------+\n",
      "|               hour|zone|      green_amount|green_number_records|     yellow_amount|yellow_number_records|\n",
      "+-------------------+----+------------------+--------------------+------------------+---------------------+\n",
      "|2020-01-01 00:00:00|  13|              null|                null|1214.8000000000002|                   56|\n",
      "|2020-01-01 00:00:00|  48|              null|                null|10773.360000000004|                  455|\n",
      "|2020-01-01 00:00:00|  76|143.77999999999997|                   4|             35.51|                    2|\n",
      "|2020-01-01 00:00:00| 130|            133.35|                   7|              null|                 null|\n",
      "|2020-01-01 00:00:00| 186|              null|                null| 4011.449999999998|                  188|\n",
      "|2020-01-01 00:00:00| 208|             80.24|                   3|              null|                 null|\n",
      "|2020-01-01 00:00:00| 248|              null|                null|              25.5|                    1|\n",
      "|2020-01-01 01:00:00|  17|            598.15|                  18|464.51000000000005|                   18|\n",
      "|2020-01-01 01:00:00|  20|             86.43|                   3|              78.6|                    2|\n",
      "|2020-01-01 01:00:00|  72|202.04999999999998|                   4|              null|                 null|\n",
      "|2020-01-01 01:00:00| 107|              null|                null| 9994.480000000005|                  583|\n",
      "|2020-01-01 01:00:00| 120|              null|                null|              11.8|                    1|\n",
      "|2020-01-01 01:00:00| 137|              null|                null| 5125.959999999997|                  291|\n",
      "|2020-01-01 01:00:00| 140|              null|                null| 2970.329999999999|                  182|\n",
      "|2020-01-01 01:00:00| 148|              null|                null| 8202.779999999995|                  412|\n",
      "|2020-01-01 01:00:00| 153|              17.8|                   1|              19.8|                    1|\n",
      "|2020-01-01 01:00:00| 159|33.900000000000006|                   3|             148.9|                    8|\n",
      "|2020-01-01 01:00:00| 185|              null|                null|              43.0|                    1|\n",
      "|2020-01-01 01:00:00| 208|             12.24|                   1|              null|                 null|\n",
      "|2020-01-01 01:00:00| 215|             164.8|                   5|            138.22|                    3|\n",
      "+-------------------+----+------------------+--------------------+------------------+---------------------+\n",
      "only showing top 20 rows\n",
      "\n"
     ]
    }
   ],
   "source": [
    "df_join.show()"
   ]
  },
  {
   "cell_type": "code",
   "execution_count": 31,
   "id": "abb46398",
   "metadata": {},
   "outputs": [],
   "source": [
    "# Read from the zones folder that we created in notebook 03 test\n",
    "df_zones = spark.read.parquet('./zones/')"
   ]
  },
  {
   "cell_type": "code",
   "execution_count": 32,
   "metadata": {},
   "outputs": [
    {
     "name": "stdout",
     "output_type": "stream",
     "text": [
      "+----------+-------------+--------------------+------------+\n",
      "|LocationID|      Borough|                Zone|service_zone|\n",
      "+----------+-------------+--------------------+------------+\n",
      "|         1|          EWR|      Newark Airport|         EWR|\n",
      "|         2|       Queens|         Jamaica Bay|   Boro Zone|\n",
      "|         3|        Bronx|Allerton/Pelham G...|   Boro Zone|\n",
      "|         4|    Manhattan|       Alphabet City| Yellow Zone|\n",
      "|         5|Staten Island|       Arden Heights|   Boro Zone|\n",
      "|         6|Staten Island|Arrochar/Fort Wad...|   Boro Zone|\n",
      "|         7|       Queens|             Astoria|   Boro Zone|\n",
      "|         8|       Queens|        Astoria Park|   Boro Zone|\n",
      "|         9|       Queens|          Auburndale|   Boro Zone|\n",
      "|        10|       Queens|        Baisley Park|   Boro Zone|\n",
      "|        11|     Brooklyn|          Bath Beach|   Boro Zone|\n",
      "|        12|    Manhattan|        Battery Park| Yellow Zone|\n",
      "|        13|    Manhattan|   Battery Park City| Yellow Zone|\n",
      "|        14|     Brooklyn|           Bay Ridge|   Boro Zone|\n",
      "|        15|       Queens|Bay Terrace/Fort ...|   Boro Zone|\n",
      "|        16|       Queens|             Bayside|   Boro Zone|\n",
      "|        17|     Brooklyn|             Bedford|   Boro Zone|\n",
      "|        18|        Bronx|        Bedford Park|   Boro Zone|\n",
      "|        19|       Queens|           Bellerose|   Boro Zone|\n",
      "|        20|        Bronx|             Belmont|   Boro Zone|\n",
      "+----------+-------------+--------------------+------------+\n",
      "only showing top 20 rows\n",
      "\n"
     ]
    }
   ],
   "source": [
    "df_zones.show()"
   ]
  },
  {
   "cell_type": "code",
   "execution_count": 33,
   "id": "b3cf98a5",
   "metadata": {},
   "outputs": [],
   "source": [
    "# Joins the join dataframe to the zones df, on the condition zone == locationid\n",
    "df_result = df_join.join(df_zones, df_join.zone == df_zones.LocationID)"
   ]
  },
  {
   "cell_type": "code",
   "execution_count": null,
   "metadata": {},
   "outputs": [
    {
     "name": "stdout",
     "output_type": "stream",
     "text": [
      "+-------------------+----+------------------+--------------------+------------------+---------------------+----------+---------+--------------------+------------+\n",
      "|               hour|zone|      green_amount|green_number_records|     yellow_amount|yellow_number_records|LocationID|  Borough|                Zone|service_zone|\n",
      "+-------------------+----+------------------+--------------------+------------------+---------------------+----------+---------+--------------------+------------+\n",
      "|2020-01-01 00:00:00|  13|              null|                null|1214.8000000000002|                   56|        13|Manhattan|   Battery Park City| Yellow Zone|\n",
      "|2020-01-01 00:00:00|  48|              null|                null|10773.360000000004|                  455|        48|Manhattan|        Clinton East| Yellow Zone|\n",
      "|2020-01-01 00:00:00|  76|143.77999999999997|                   4|             35.51|                    2|        76| Brooklyn|       East New York|   Boro Zone|\n",
      "|2020-01-01 00:00:00| 130|            133.35|                   7|              null|                 null|       130|   Queens|             Jamaica|   Boro Zone|\n",
      "|2020-01-01 00:00:00| 186|              null|                null| 4011.449999999998|                  188|       186|Manhattan|Penn Station/Madi...| Yellow Zone|\n",
      "|2020-01-01 00:00:00| 208|             80.24|                   3|              null|                 null|       208|    Bronx|Schuylerville/Edg...|   Boro Zone|\n",
      "|2020-01-01 00:00:00| 248|              null|                null|              25.5|                    1|       248|    Bronx|West Farms/Bronx ...|   Boro Zone|\n",
      "|2020-01-01 01:00:00|  17|            598.15|                  18|464.51000000000005|                   18|        17| Brooklyn|             Bedford|   Boro Zone|\n",
      "|2020-01-01 01:00:00|  20|             86.43|                   3|              78.6|                    2|        20|    Bronx|             Belmont|   Boro Zone|\n",
      "|2020-01-01 01:00:00|  72|202.04999999999998|                   4|              null|                 null|        72| Brooklyn|East Flatbush/Rem...|   Boro Zone|\n",
      "|2020-01-01 01:00:00| 107|              null|                null| 9994.480000000005|                  583|       107|Manhattan|            Gramercy| Yellow Zone|\n",
      "|2020-01-01 01:00:00| 120|              null|                null|              11.8|                    1|       120|Manhattan|     Highbridge Park|   Boro Zone|\n",
      "|2020-01-01 01:00:00| 137|              null|                null| 5125.959999999997|                  291|       137|Manhattan|            Kips Bay| Yellow Zone|\n",
      "|2020-01-01 01:00:00| 140|              null|                null| 2970.329999999999|                  182|       140|Manhattan|     Lenox Hill East| Yellow Zone|\n",
      "|2020-01-01 01:00:00| 148|              null|                null| 8202.779999999995|                  412|       148|Manhattan|     Lower East Side| Yellow Zone|\n",
      "|2020-01-01 01:00:00| 153|              17.8|                   1|              19.8|                    1|       153|Manhattan|         Marble Hill|   Boro Zone|\n",
      "|2020-01-01 01:00:00| 159|33.900000000000006|                   3|             148.9|                    8|       159|    Bronx|       Melrose South|   Boro Zone|\n",
      "|2020-01-01 01:00:00| 185|              null|                null|              43.0|                    1|       185|    Bronx|      Pelham Parkway|   Boro Zone|\n",
      "|2020-01-01 01:00:00| 208|             12.24|                   1|              null|                 null|       208|    Bronx|Schuylerville/Edg...|   Boro Zone|\n",
      "|2020-01-01 01:00:00| 215|             164.8|                   5|            138.22|                    3|       215|   Queens|       South Jamaica|   Boro Zone|\n",
      "+-------------------+----+------------------+--------------------+------------------+---------------------+----------+---------+--------------------+------------+\n",
      "only showing top 20 rows\n",
      "\n"
     ]
    }
   ],
   "source": [
    "# See the results \n",
    "df_result.show()"
   ]
  },
  {
   "cell_type": "code",
   "execution_count": 35,
   "id": "5e0614ba",
   "metadata": {},
   "outputs": [],
   "source": [
    "# We saw that location and zone are just integers, which is not easily human readable, so drop those, and then write out the file\n",
    "df_result.drop('LocationID', 'zone').write.parquet('../../Data/data/module-05-batch/07-groupby-join/join/tmp/revenue-zones')"
   ]
  }
 ],
 "metadata": {
  "kernelspec": {
   "display_name": "dataenginzoomvenv",
   "language": "python",
   "name": "python3"
  },
  "language_info": {
   "codemirror_mode": {
    "name": "ipython",
    "version": 3
   },
   "file_extension": ".py",
   "mimetype": "text/x-python",
   "name": "python",
   "nbconvert_exporter": "python",
   "pygments_lexer": "ipython3",
   "version": "3.11.5"
  }
 },
 "nbformat": 4,
 "nbformat_minor": 5
}
