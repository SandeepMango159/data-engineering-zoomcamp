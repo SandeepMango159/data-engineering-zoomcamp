{
 "cells": [
  {
   "cell_type": "markdown",
   "id": "0e677665",
   "metadata": {},
   "source": [
    "### Purpose of this notebook is to run the code for the homework of module 5"
   ]
  },
  {
   "cell_type": "code",
   "execution_count": 2,
   "id": "f06b9738",
   "metadata": {},
   "outputs": [],
   "source": [
    "import pyspark\n",
    "from pyspark.sql import SparkSession"
   ]
  },
  {
   "cell_type": "code",
   "execution_count": 3,
   "id": "b2f738ce",
   "metadata": {},
   "outputs": [],
   "source": [
    "# Add the vevn to spark's settings, so inject the venv’s Python into both driver & worker configs before recreating the session, to find the right python interpreter\n",
    "import os\n",
    "venv_python = r\"C:\\Sandeep SSD\\Programming SSD\\Data Engineering Zoomcamp\\data-engineering-zoomcamp\\dataenginzoomvenv\\Scripts\\python.exe\"\n",
    "\n",
    "# 1) Ensure the worker uses exactly this Python executable:\n",
    "os.environ['PYSPARK_PYTHON'] = venv_python\n",
    "os.environ['PYSPARK_DRIVER_PYTHON'] = venv_python\n"
   ]
  },
  {
   "cell_type": "code",
   "execution_count": 4,
   "id": "3e755028",
   "metadata": {},
   "outputs": [],
   "source": [
    "spark = SparkSession.builder \\\n",
    "    .master(\"local[*]\") \\\n",
    "    .appName('test') \\\n",
    "    .config(\"spark.pyspark.python\", venv_python) \\\n",
    "    .config(\"spark.pyspark.driver.python\", venv_python) \\\n",
    "    .getOrCreate()"
   ]
  },
  {
   "cell_type": "code",
   "execution_count": 5,
   "id": "e9299fd7",
   "metadata": {},
   "outputs": [
    {
     "name": "stdout",
     "output_type": "stream",
     "text": [
      "http://192.168.0.181:4040\n"
     ]
    }
   ],
   "source": [
    "# Check which port the Spark UI is running on\n",
    "print(spark.sparkContext.uiWebUrl)"
   ]
  },
  {
   "cell_type": "code",
   "execution_count": null,
   "id": "58510a6d",
   "metadata": {},
   "outputs": [
    {
     "data": {
      "text/html": [
       "\n",
       "            <div>\n",
       "                <p><b>SparkSession - in-memory</b></p>\n",
       "                \n",
       "        <div>\n",
       "            <p><b>SparkContext</b></p>\n",
       "\n",
       "            <p><a href=\"http://192.168.0.181:4040\">Spark UI</a></p>\n",
       "\n",
       "            <dl>\n",
       "              <dt>Version</dt>\n",
       "                <dd><code>v3.4.2</code></dd>\n",
       "              <dt>Master</dt>\n",
       "                <dd><code>local[*]</code></dd>\n",
       "              <dt>AppName</dt>\n",
       "                <dd><code>test</code></dd>\n",
       "            </dl>\n",
       "        </div>\n",
       "        \n",
       "            </div>\n",
       "        "
      ],
      "text/plain": [
       "<pyspark.sql.session.SparkSession at 0x1cbfeb30690>"
      ]
     },
     "execution_count": 6,
     "metadata": {},
     "output_type": "execute_result"
    }
   ],
   "source": [
    "# Print spark to get all the spark info\n",
    "spark"
   ]
  },
  {
   "cell_type": "markdown",
   "id": "06eb9038",
   "metadata": {},
   "source": [
    "Question 1: Install Spark and PySpark <br>\n",
    "#Mine is 3.4.2"
   ]
  },
  {
   "cell_type": "markdown",
   "id": "b7e4bbb2",
   "metadata": {},
   "source": [
    "### For Question 2: Yellow October 2024"
   ]
  },
  {
   "cell_type": "code",
   "execution_count": 7,
   "id": "9934ad58",
   "metadata": {},
   "outputs": [],
   "source": [
    "from pyspark.sql import types"
   ]
  },
  {
   "cell_type": "code",
   "execution_count": null,
   "id": "4acb9e67",
   "metadata": {},
   "outputs": [],
   "source": [
    "# Define a schema for yellow data\n",
    "# Had to fix passengercount, ratecodeid and paymenttype to longtypes... Because they were written as int64 in the parquet, but integertype only accepts int32, and spark won't silently cast it... \n",
    "yellow_schema = types.StructType([\n",
    "    types.StructField(\"VendorID\", types.IntegerType(), True),\n",
    "    types.StructField(\"tpep_pickup_datetime\", types.TimestampType(), True),\n",
    "    types.StructField(\"tpep_dropoff_datetime\", types.TimestampType(), True),\n",
    "    types.StructField(\"passenger_count\", types.LongType(), True),\n",
    "    types.StructField(\"trip_distance\", types.DoubleType(), True),\n",
    "    types.StructField(\"RatecodeID\", types.LongType(), True),\n",
    "    types.StructField(\"store_and_fwd_flag\", types.StringType(), True),\n",
    "    types.StructField(\"PULocationID\", types.IntegerType(), True),\n",
    "    types.StructField(\"DOLocationID\", types.IntegerType(), True),\n",
    "    types.StructField(\"payment_type\", types.LongType(), True),\n",
    "    types.StructField(\"fare_amount\", types.DoubleType(), True),\n",
    "    types.StructField(\"extra\", types.DoubleType(), True),\n",
    "    types.StructField(\"mta_tax\", types.DoubleType(), True),\n",
    "    types.StructField(\"tip_amount\", types.DoubleType(), True),\n",
    "    types.StructField(\"tolls_amount\", types.DoubleType(), True),\n",
    "    types.StructField(\"improvement_surcharge\", types.DoubleType(), True),\n",
    "    types.StructField(\"total_amount\", types.DoubleType(), True),\n",
    "    types.StructField(\"congestion_surcharge\", types.DoubleType(), True)\n",
    "])"
   ]
  },
  {
   "cell_type": "code",
   "execution_count": 21,
   "id": "81db8159",
   "metadata": {},
   "outputs": [
    {
     "data": {
      "text/plain": [
       "DataFrame[VendorID: int, tpep_pickup_datetime: timestamp, tpep_dropoff_datetime: timestamp, passenger_count: bigint, trip_distance: double, RatecodeID: bigint, store_and_fwd_flag: string, PULocationID: int, DOLocationID: int, payment_type: bigint, fare_amount: double, extra: double, mta_tax: double, tip_amount: double, tolls_amount: double, improvement_surcharge: double, total_amount: double, congestion_surcharge: double]"
      ]
     },
     "execution_count": 21,
     "metadata": {},
     "output_type": "execute_result"
    }
   ],
   "source": [
    "# Read the yellow 2024 data\n",
    "input = '../../Data/data/nyc-tlc/yellow_tripdata_2024-10.parquet'\n",
    "output_path = '../../Data/data/nyc-tlc/yellow_tripdata_2024-10_Homework_module_5.parquet'\n",
    "\n",
    "df_yellow = spark.read \\\n",
    "        .schema(yellow_schema) \\\n",
    "        .parquet(input)\n",
    "\n",
    "\n",
    "df_yellow"
   ]
  },
  {
   "cell_type": "code",
   "execution_count": 22,
   "id": "e0d6c464",
   "metadata": {},
   "outputs": [],
   "source": [
    "\n",
    "# And write it back out, but with \n",
    "df_yellow \\\n",
    "    .repartition(4) \\\n",
    "    .write \\\n",
    "    .mode(\"overwrite\") \\\n",
    "    .parquet(output_path)"
   ]
  },
  {
   "cell_type": "markdown",
   "id": "1f41d062",
   "metadata": {},
   "source": [
    "And the answer is around 24mb each, checked in file explorer, easiest way... "
   ]
  },
  {
   "cell_type": "markdown",
   "id": "3985811a",
   "metadata": {},
   "source": [
    "### Question 3: Count records\n",
    "How many taxi trips were there on the 15th of October?\n",
    "Consider only trips that started on the 15th of October.\n"
   ]
  },
  {
   "cell_type": "code",
   "execution_count": 25,
   "id": "c111281c",
   "metadata": {},
   "outputs": [],
   "source": [
    "from pyspark.sql import functions as F"
   ]
  },
  {
   "cell_type": "code",
   "execution_count": 31,
   "id": "ee4d2bf7",
   "metadata": {},
   "outputs": [
    {
     "data": {
      "text/plain": [
       "125567"
      ]
     },
     "execution_count": 31,
     "metadata": {},
     "output_type": "execute_result"
    }
   ],
   "source": [
    "\n",
    "df_yellow \\\n",
    "    .withColumn('tpep_pickup_datetime', F.to_date(df_yellow.tpep_pickup_datetime)) \\\n",
    "    .filter(\"tpep_pickup_datetime = '2024-10-15'\") \\\n",
    "    .count()\n",
    "\n"
   ]
  },
  {
   "cell_type": "markdown",
   "id": "8e1b93ee",
   "metadata": {},
   "source": [
    "Answer is 125567 taxi trips"
   ]
  },
  {
   "cell_type": "markdown",
   "id": "63b8c069",
   "metadata": {},
   "source": [
    "### Question 4: Longest trip\n",
    "What is the length of the longest trip in the dataset in hours?\n",
    "\n"
   ]
  },
  {
   "cell_type": "code",
   "execution_count": 33,
   "id": "aca3f958",
   "metadata": {},
   "outputs": [
    {
     "name": "stdout",
     "output_type": "stream",
     "text": [
      "+--------+--------------------+---------------------+---------------+-------------+----------+------------------+------------+------------+------------+-----------+-----+-------+----------+------------+---------------------+------------+--------------------+--------------------+\n",
      "|VendorID|tpep_pickup_datetime|tpep_dropoff_datetime|passenger_count|trip_distance|RatecodeID|store_and_fwd_flag|PULocationID|DOLocationID|payment_type|fare_amount|extra|mta_tax|tip_amount|tolls_amount|improvement_surcharge|total_amount|congestion_surcharge|      duration_hours|\n",
      "+--------+--------------------+---------------------+---------------+-------------+----------+------------------+------------+------------+------------+-----------+-----+-------+----------+------------+---------------------+------------+--------------------+--------------------+\n",
      "|       2| 2024-10-01 02:30:44|  2024-10-01 02:48:26|              1|          3.0|         1|                 N|         162|         246|           1|       18.4|  1.0|    0.5|       1.5|         0.0|                  1.0|        24.9|                 2.5|               0.295|\n",
      "|       1| 2024-10-01 02:12:20|  2024-10-01 02:25:25|              1|          2.2|         1|                 N|          48|         236|           1|       14.2|  3.5|    0.5|       3.8|         0.0|                  1.0|        23.0|                 2.5| 0.21805555555555556|\n",
      "|       1| 2024-10-01 02:04:46|  2024-10-01 02:13:52|              1|          2.7|         1|                 N|         142|          24|           1|       13.5|  3.5|    0.5|       3.7|         0.0|                  1.0|        22.2|                 2.5| 0.15166666666666667|\n",
      "|       1| 2024-10-01 02:12:10|  2024-10-01 02:23:01|              1|          3.1|         1|                 N|         233|          75|           1|       14.2|  3.5|    0.5|       2.0|         0.0|                  1.0|        21.2|                 2.5| 0.18083333333333335|\n",
      "|       1| 2024-10-01 02:30:22|  2024-10-01 02:30:39|              1|          0.0|         1|                 N|         262|         262|           3|        3.0|  3.5|    0.5|       0.0|         0.0|                  1.0|         8.0|                 2.5|0.004722222222222222|\n",
      "|       2| 2024-10-01 02:31:20|  2024-10-01 02:36:00|              2|         0.97|         1|                 N|         137|         137|           1|        7.2|  1.0|    0.5|      2.44|         0.0|                  1.0|       14.64|                 2.5| 0.07777777777777778|\n",
      "|       1| 2024-10-01 02:42:57|  2024-10-01 02:49:01|              1|          1.3|         1|                 N|         142|          48|           1|        7.9|  3.5|    0.5|      2.55|         0.0|                  1.0|       15.45|                 2.5| 0.10111111111111111|\n",
      "|       1| 2024-10-01 02:59:55|  2024-10-01 03:02:24|              1|          0.5|         1|                 N|         230|         161|           1|        5.1|  3.5|    0.5|       2.0|         0.0|                  1.0|        12.1|                 2.5| 0.04138888888888889|\n",
      "|       1| 2024-10-01 02:00:47|  2024-10-01 02:04:22|              0|          1.1|         1|                 N|         142|         237|           1|        7.2|  3.5|    0.5|       3.0|         0.0|                  1.0|        15.2|                 2.5|0.059722222222222225|\n",
      "|       1| 2024-10-01 02:17:36|  2024-10-01 02:26:22|              1|          2.2|         1|                 N|         162|         145|           1|       11.4|  3.5|    0.5|       3.3|         0.0|                  1.0|        19.7|                 2.5|  0.1461111111111111|\n",
      "|       1| 2024-10-01 02:49:00|  2024-10-01 02:52:20|              1|          0.6|         1|                 N|         229|         162|           1|        5.1|  3.5|    0.5|       2.0|         0.0|                  1.0|        12.1|                 2.5| 0.05555555555555555|\n",
      "|       2| 2024-10-01 02:07:26|  2024-10-01 02:13:20|              1|          0.9|         1|                 N|         162|         162|           1|        7.9|  1.0|    0.5|      3.87|         0.0|                  1.0|       16.77|                 2.5| 0.09833333333333333|\n",
      "|       2| 2024-10-01 02:17:11|  2024-10-01 02:25:00|              1|         1.33|         1|                 N|         162|         230|           1|        9.3|  1.0|    0.5|       2.0|         0.0|                  1.0|        16.3|                 2.5| 0.13027777777777777|\n",
      "|       2| 2024-10-01 02:00:34|  2024-10-01 02:05:13|              1|         1.79|         1|                 N|         211|         234|           1|        9.3|  1.0|    0.5|      2.86|         0.0|                  1.0|       17.16|                 2.5|              0.0775|\n",
      "|       2| 2024-10-01 01:58:40|  2024-10-01 02:20:26|              1|         5.16|         1|                 N|         142|           7|           1|       24.7|  1.0|    0.5|       0.0|         0.0|                  1.0|        29.7|                 2.5| 0.36277777777777775|\n",
      "|       1| 2024-10-01 02:55:29|  2024-10-01 03:42:35|              1|         11.3|        99|                 N|         161|         197|           1|       39.5|  0.0|    0.5|       0.0|        6.94|                  1.0|       47.94|                 0.0|               0.785|\n",
      "|       1| 2024-10-01 02:08:59|  2024-10-01 02:40:58|              1|         20.6|         1|                 N|         132|         243|           2|       76.5| 2.75|    0.5|       0.0|        6.94|                  1.0|       87.69|                 0.0|  0.5330555555555555|\n",
      "|       2| 2024-10-01 02:18:38|  2024-10-01 02:36:47|              2|         7.42|         1|                 N|         239|         247|           4|      -33.1| -1.0|   -0.5|       0.0|         0.0|                 -1.0|       -38.1|                -2.5|              0.3025|\n",
      "|       2| 2024-10-01 02:18:38|  2024-10-01 02:36:47|              2|         7.42|         1|                 N|         239|         247|           4|       33.1|  1.0|    0.5|       0.0|         0.0|                  1.0|        38.1|                 2.5|              0.3025|\n",
      "|       2| 2024-10-01 02:39:33|  2024-10-01 02:53:59|              1|         4.49|         1|                 N|         247|          60|           2|       21.9|  1.0|    0.5|       0.0|         0.0|                  1.0|        24.4|                 0.0| 0.24055555555555555|\n",
      "+--------+--------------------+---------------------+---------------+-------------+----------+------------------+------------+------------+------------+-----------+-----+-------+----------+------------+---------------------+------------+--------------------+--------------------+\n",
      "only showing top 20 rows\n",
      "\n"
     ]
    }
   ],
   "source": [
    "# Create a dataframe that gets the duration in hours by casting the timestamps to longs, which will give us a number in seconds, substracting the dropoff from pickup, and dividing by 3600 to get hours\n",
    "df_with_duration = df_yellow.withColumn(\n",
    "    \"duration_hours\",\n",
    "        (\n",
    "            F.col(\"tpep_dropoff_datetime\").cast(\"long\")\n",
    "            - F.col(\"tpep_pickup_datetime\").cast(\"long\")\n",
    "        )\n",
    "        / 3600.0\n",
    ")\n",
    "\n",
    "df_with_duration.show()"
   ]
  },
  {
   "cell_type": "code",
   "execution_count": 34,
   "id": "f1cb203e",
   "metadata": {},
   "outputs": [
    {
     "name": "stdout",
     "output_type": "stream",
     "text": [
      "+------------------+\n",
      "|max_duration_hours|\n",
      "+------------------+\n",
      "|162.61777777777777|\n",
      "+------------------+\n",
      "\n"
     ]
    }
   ],
   "source": [
    "# Then to get the maximum we just aggregate\n",
    "df_with_duration \\\n",
    "    .agg(F.max(\"duration_hours\").alias(\"max_duration_hours\")) \\\n",
    "    .show()\n"
   ]
  },
  {
   "cell_type": "code",
   "execution_count": 36,
   "id": "b04057e9",
   "metadata": {},
   "outputs": [
    {
     "name": "stdout",
     "output_type": "stream",
     "text": [
      "+------------------+\n",
      "|    duration_hours|\n",
      "+------------------+\n",
      "|162.61777777777777|\n",
      "+------------------+\n",
      "\n"
     ]
    }
   ],
   "source": [
    "# Since we now have duration hours as an extra column, we can also just order by duration hours in desc, and then limit by 1 to get it\n",
    "df_with_duration \\\n",
    "    .select(\"duration_hours\") \\\n",
    "    .orderBy(F.desc(\"duration_hours\")) \\\n",
    "    .limit(1) \\\n",
    "    .show()"
   ]
  },
  {
   "cell_type": "markdown",
   "id": "49d37c07",
   "metadata": {},
   "source": [
    "So the answer is 162 hours, a very long trip..."
   ]
  },
  {
   "cell_type": "markdown",
   "id": "496b0de3",
   "metadata": {},
   "source": [
    "### Question 5: User Interface\n",
    "Spark’s User Interface which shows the application's dashboard runs on which local port?\n",
    "\n"
   ]
  },
  {
   "cell_type": "code",
   "execution_count": 38,
   "id": "ab0f5df4",
   "metadata": {},
   "outputs": [
    {
     "name": "stdout",
     "output_type": "stream",
     "text": [
      "http://192.168.0.181:4040\n"
     ]
    }
   ],
   "source": [
    "# Can check the webui url via this command\n",
    "print(spark.sparkContext.uiWebUrl)"
   ]
  },
  {
   "cell_type": "markdown",
   "id": "b5e92ecd",
   "metadata": {},
   "source": [
    "So answer is port 4040"
   ]
  },
  {
   "cell_type": "markdown",
   "id": "0b379c79",
   "metadata": {},
   "source": [
    "### Question 6: Least frequent pickup location zone\n",
    "Load the zone lookup data into a temp view in Spark:\n",
    "\n",
    "wget https://d37ci6vzurychx.cloudfront.net/misc/taxi_zone_lookup.csv\n",
    "Using the zone lookup data and the Yellow October 2024 data, what is the name of the LEAST frequent pickup location Zone?\n",
    "\n"
   ]
  },
  {
   "cell_type": "code",
   "execution_count": 39,
   "id": "532cb8a6",
   "metadata": {},
   "outputs": [],
   "source": [
    "# Read from the zones csv\n",
    "df_zones = spark.read.parquet('../../Data/data/csv/zones/spark_parquet/')"
   ]
  },
  {
   "cell_type": "code",
   "execution_count": 40,
   "id": "cc077ee8",
   "metadata": {},
   "outputs": [
    {
     "name": "stdout",
     "output_type": "stream",
     "text": [
      "+----------+-------------+--------------------+------------+\n",
      "|LocationID|      Borough|                Zone|service_zone|\n",
      "+----------+-------------+--------------------+------------+\n",
      "|         1|          EWR|      Newark Airport|         EWR|\n",
      "|         2|       Queens|         Jamaica Bay|   Boro Zone|\n",
      "|         3|        Bronx|Allerton/Pelham G...|   Boro Zone|\n",
      "|         4|    Manhattan|       Alphabet City| Yellow Zone|\n",
      "|         5|Staten Island|       Arden Heights|   Boro Zone|\n",
      "|         6|Staten Island|Arrochar/Fort Wad...|   Boro Zone|\n",
      "|         7|       Queens|             Astoria|   Boro Zone|\n",
      "|         8|       Queens|        Astoria Park|   Boro Zone|\n",
      "|         9|       Queens|          Auburndale|   Boro Zone|\n",
      "|        10|       Queens|        Baisley Park|   Boro Zone|\n",
      "|        11|     Brooklyn|          Bath Beach|   Boro Zone|\n",
      "|        12|    Manhattan|        Battery Park| Yellow Zone|\n",
      "|        13|    Manhattan|   Battery Park City| Yellow Zone|\n",
      "|        14|     Brooklyn|           Bay Ridge|   Boro Zone|\n",
      "|        15|       Queens|Bay Terrace/Fort ...|   Boro Zone|\n",
      "|        16|       Queens|             Bayside|   Boro Zone|\n",
      "|        17|     Brooklyn|             Bedford|   Boro Zone|\n",
      "|        18|        Bronx|        Bedford Park|   Boro Zone|\n",
      "|        19|       Queens|           Bellerose|   Boro Zone|\n",
      "|        20|        Bronx|             Belmont|   Boro Zone|\n",
      "+----------+-------------+--------------------+------------+\n",
      "only showing top 20 rows\n",
      "\n"
     ]
    }
   ],
   "source": [
    "df_zones.show()"
   ]
  },
  {
   "cell_type": "code",
   "execution_count": 44,
   "id": "a222f727",
   "metadata": {},
   "outputs": [],
   "source": [
    "# Joins the join dataframe to the zones df, on the condition zone == locationid\n",
    "df_joined = df_yellow.join(df_zones, df_yellow.PULocationID == df_zones.LocationID)"
   ]
  },
  {
   "cell_type": "code",
   "execution_count": 45,
   "id": "1560791b",
   "metadata": {},
   "outputs": [
    {
     "name": "stdout",
     "output_type": "stream",
     "text": [
      "+--------+--------------------+---------------------+---------------+-------------+----------+------------------+------------+------------+------------+-----------+-----+-------+----------+------------+---------------------+------------+--------------------+----------+---------+--------------------+------------+\n",
      "|VendorID|tpep_pickup_datetime|tpep_dropoff_datetime|passenger_count|trip_distance|RatecodeID|store_and_fwd_flag|PULocationID|DOLocationID|payment_type|fare_amount|extra|mta_tax|tip_amount|tolls_amount|improvement_surcharge|total_amount|congestion_surcharge|LocationID|  Borough|                Zone|service_zone|\n",
      "+--------+--------------------+---------------------+---------------+-------------+----------+------------------+------------+------------+------------+-----------+-----+-------+----------+------------+---------------------+------------+--------------------+----------+---------+--------------------+------------+\n",
      "|       2| 2024-10-01 02:30:44|  2024-10-01 02:48:26|              1|          3.0|         1|                 N|         162|         246|           1|       18.4|  1.0|    0.5|       1.5|         0.0|                  1.0|        24.9|                 2.5|       162|Manhattan|        Midtown East| Yellow Zone|\n",
      "|       1| 2024-10-01 02:12:20|  2024-10-01 02:25:25|              1|          2.2|         1|                 N|          48|         236|           1|       14.2|  3.5|    0.5|       3.8|         0.0|                  1.0|        23.0|                 2.5|        48|Manhattan|        Clinton East| Yellow Zone|\n",
      "|       1| 2024-10-01 02:04:46|  2024-10-01 02:13:52|              1|          2.7|         1|                 N|         142|          24|           1|       13.5|  3.5|    0.5|       3.7|         0.0|                  1.0|        22.2|                 2.5|       142|Manhattan| Lincoln Square East| Yellow Zone|\n",
      "|       1| 2024-10-01 02:12:10|  2024-10-01 02:23:01|              1|          3.1|         1|                 N|         233|          75|           1|       14.2|  3.5|    0.5|       2.0|         0.0|                  1.0|        21.2|                 2.5|       233|Manhattan| UN/Turtle Bay South| Yellow Zone|\n",
      "|       1| 2024-10-01 02:30:22|  2024-10-01 02:30:39|              1|          0.0|         1|                 N|         262|         262|           3|        3.0|  3.5|    0.5|       0.0|         0.0|                  1.0|         8.0|                 2.5|       262|Manhattan|      Yorkville East| Yellow Zone|\n",
      "|       2| 2024-10-01 02:31:20|  2024-10-01 02:36:00|              2|         0.97|         1|                 N|         137|         137|           1|        7.2|  1.0|    0.5|      2.44|         0.0|                  1.0|       14.64|                 2.5|       137|Manhattan|            Kips Bay| Yellow Zone|\n",
      "|       1| 2024-10-01 02:42:57|  2024-10-01 02:49:01|              1|          1.3|         1|                 N|         142|          48|           1|        7.9|  3.5|    0.5|      2.55|         0.0|                  1.0|       15.45|                 2.5|       142|Manhattan| Lincoln Square East| Yellow Zone|\n",
      "|       1| 2024-10-01 02:59:55|  2024-10-01 03:02:24|              1|          0.5|         1|                 N|         230|         161|           1|        5.1|  3.5|    0.5|       2.0|         0.0|                  1.0|        12.1|                 2.5|       230|Manhattan|Times Sq/Theatre ...| Yellow Zone|\n",
      "|       1| 2024-10-01 02:00:47|  2024-10-01 02:04:22|              0|          1.1|         1|                 N|         142|         237|           1|        7.2|  3.5|    0.5|       3.0|         0.0|                  1.0|        15.2|                 2.5|       142|Manhattan| Lincoln Square East| Yellow Zone|\n",
      "|       1| 2024-10-01 02:17:36|  2024-10-01 02:26:22|              1|          2.2|         1|                 N|         162|         145|           1|       11.4|  3.5|    0.5|       3.3|         0.0|                  1.0|        19.7|                 2.5|       162|Manhattan|        Midtown East| Yellow Zone|\n",
      "|       1| 2024-10-01 02:49:00|  2024-10-01 02:52:20|              1|          0.6|         1|                 N|         229|         162|           1|        5.1|  3.5|    0.5|       2.0|         0.0|                  1.0|        12.1|                 2.5|       229|Manhattan|Sutton Place/Turt...| Yellow Zone|\n",
      "|       2| 2024-10-01 02:07:26|  2024-10-01 02:13:20|              1|          0.9|         1|                 N|         162|         162|           1|        7.9|  1.0|    0.5|      3.87|         0.0|                  1.0|       16.77|                 2.5|       162|Manhattan|        Midtown East| Yellow Zone|\n",
      "|       2| 2024-10-01 02:17:11|  2024-10-01 02:25:00|              1|         1.33|         1|                 N|         162|         230|           1|        9.3|  1.0|    0.5|       2.0|         0.0|                  1.0|        16.3|                 2.5|       162|Manhattan|        Midtown East| Yellow Zone|\n",
      "|       2| 2024-10-01 02:00:34|  2024-10-01 02:05:13|              1|         1.79|         1|                 N|         211|         234|           1|        9.3|  1.0|    0.5|      2.86|         0.0|                  1.0|       17.16|                 2.5|       211|Manhattan|                SoHo| Yellow Zone|\n",
      "|       2| 2024-10-01 01:58:40|  2024-10-01 02:20:26|              1|         5.16|         1|                 N|         142|           7|           1|       24.7|  1.0|    0.5|       0.0|         0.0|                  1.0|        29.7|                 2.5|       142|Manhattan| Lincoln Square East| Yellow Zone|\n",
      "|       1| 2024-10-01 02:55:29|  2024-10-01 03:42:35|              1|         11.3|        99|                 N|         161|         197|           1|       39.5|  0.0|    0.5|       0.0|        6.94|                  1.0|       47.94|                 0.0|       161|Manhattan|      Midtown Center| Yellow Zone|\n",
      "|       1| 2024-10-01 02:08:59|  2024-10-01 02:40:58|              1|         20.6|         1|                 N|         132|         243|           2|       76.5| 2.75|    0.5|       0.0|        6.94|                  1.0|       87.69|                 0.0|       132|   Queens|         JFK Airport|    Airports|\n",
      "|       2| 2024-10-01 02:18:38|  2024-10-01 02:36:47|              2|         7.42|         1|                 N|         239|         247|           4|      -33.1| -1.0|   -0.5|       0.0|         0.0|                 -1.0|       -38.1|                -2.5|       239|Manhattan|Upper West Side S...| Yellow Zone|\n",
      "|       2| 2024-10-01 02:18:38|  2024-10-01 02:36:47|              2|         7.42|         1|                 N|         239|         247|           4|       33.1|  1.0|    0.5|       0.0|         0.0|                  1.0|        38.1|                 2.5|       239|Manhattan|Upper West Side S...| Yellow Zone|\n",
      "|       2| 2024-10-01 02:39:33|  2024-10-01 02:53:59|              1|         4.49|         1|                 N|         247|          60|           2|       21.9|  1.0|    0.5|       0.0|         0.0|                  1.0|        24.4|                 0.0|       247|    Bronx|      West Concourse|   Boro Zone|\n",
      "+--------+--------------------+---------------------+---------------+-------------+----------+------------------+------------+------------+------------+-----------+-----+-------+----------+------------+---------------------+------------+--------------------+----------+---------+--------------------+------------+\n",
      "only showing top 20 rows\n",
      "\n"
     ]
    }
   ],
   "source": [
    "df_joined.show()"
   ]
  },
  {
   "cell_type": "code",
   "execution_count": null,
   "id": "bafb5ab1",
   "metadata": {},
   "outputs": [
    {
     "name": "stdout",
     "output_type": "stream",
     "text": [
      "+--------------------+-----+\n",
      "|                Zone|count|\n",
      "+--------------------+-----+\n",
      "|Governor's Island...|    1|\n",
      "+--------------------+-----+\n",
      "\n"
     ]
    }
   ],
   "source": [
    "# We group by zone, count it, and order by count to get the least used zone, then limit by 1 to see just that one\n",
    "df_joined \\\n",
    "    .groupBy('Zone') \\\n",
    "    .count() \\\n",
    "    .orderBy('count', ascending=True) \\\n",
    "    .limit(1) \\\n",
    "    .show()"
   ]
  },
  {
   "cell_type": "markdown",
   "id": "41e47c6b",
   "metadata": {},
   "source": [
    "So the answer is Governo's Island, with count 1"
   ]
  }
 ],
 "metadata": {
  "kernelspec": {
   "display_name": "dataenginzoomvenv",
   "language": "python",
   "name": "python3"
  },
  "language_info": {
   "codemirror_mode": {
    "name": "ipython",
    "version": 3
   },
   "file_extension": ".py",
   "mimetype": "text/x-python",
   "name": "python",
   "nbconvert_exporter": "python",
   "pygments_lexer": "ipython3",
   "version": "3.11.5"
  }
 },
 "nbformat": 4,
 "nbformat_minor": 5
}
